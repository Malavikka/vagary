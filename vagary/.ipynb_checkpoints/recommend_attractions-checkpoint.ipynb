{
 "cells": [
  {
   "cell_type": "code",
   "execution_count": 101,
   "metadata": {},
   "outputs": [],
   "source": [
    "import numpy as np\n",
    "import pandas as pd\n",
    "import matplotlib.pyplot as plt\n",
    "from sklearn.cluster import KMeans\n",
    "from collections import Counter"
   ]
  },
  {
   "cell_type": "code",
   "execution_count": 102,
   "metadata": {},
   "outputs": [
    {
     "name": "stdout",
     "output_type": "stream",
     "text": [
      "['Afghanistan', 'Albania', 'Algeria', 'Anguilla', 'Antigua & Barbuda', 'Argentina', 'Armenia', 'Aruba', 'Australia', 'Austria', 'Azerbaijan', 'Bahamas. The', 'Bahrain', 'Bangladesh', 'Barbados', 'Belarus', 'Belgium', 'Belize', 'Benin', 'Bermuda', 'Bhutan', 'Bolivia', 'Botswana', 'Brazil', 'British Virgin Is.', 'Brunei', 'Bulgaria', 'Burkina Faso', 'Burma', 'Burundi', 'Cambodia', 'Cameroon', 'Cape Verde', 'Cayman Islands', 'Central African Rep.', 'Chad', 'Chile', 'China', 'Colombia', 'Comoros', 'Congo. Dem. Rep.', 'Congo. Repub. of the', 'Costa Rica', \"Cote d'Ivoire\", 'Cuba', 'Czech Republic', 'Denmark', 'Djibouti', 'Dominica', 'Dominican Republic', 'Ecuador', 'Egypt', 'El Salvador', 'Equatorial Guinea', 'Eritrea', 'Estonia', 'Ethiopia', 'Fiji', 'Finland', 'France', 'French Guiana', 'French Polynesia', 'Gabon', 'Gambia. The', 'Georgia', 'Germany', 'Ghana', 'Greece', 'Grenada', 'Guadeloupe', 'Guatemala', 'Guinea', 'Guinea-Bissau', 'Guyana', 'Haiti', 'Honduras', 'Hong Kong', 'Hungary', 'Iceland', 'India', 'Indonesia', 'Iran', 'Iraq', 'Ireland', 'Israel', 'Jamaica', 'Japan', 'Jordan', 'Kazakhstan', 'Kenya', 'Korea. North', 'Korea. South', 'Kuwait', 'Kyrgyzstan', 'Laos', 'Latvia', 'Lesotho', 'Liberia', 'Liechtenstein', 'Macau', 'Madagascar', 'Malawi', 'Malaysia', 'Maldives', 'Mali', 'Marshall Islands', 'Martinique', 'Mauritania', 'Mauritius', 'Mexico', 'Micronesia. Fed. St.', 'Mongolia', 'Mozambique', 'Namibia', 'Netherlands', 'Netherlands Antilles', 'New Caledonia', 'New Zealand', 'Nicaragua', 'Niger', 'Nigeria', 'Norway', 'Oman', 'Pakistan', 'Palau', 'Panama', 'Papua New Guinea', 'Paraguay', 'Peru', 'Philippines', 'Poland', 'Portugal', 'Puerto Rico', 'Qatar', 'Reunion', 'Romania', 'Rwanda', 'Saint Kitts & Nevis', 'Saint Lucia', 'Saint Vincent and the Grenadines', 'Samoa', 'Sao Tome & Principe', 'Saudi Arabia', 'Senegal', 'Seychelles', 'Sierra Leone', 'Singapore', 'Somalia', 'South Africa', 'Spain', 'Sri Lanka', 'Sudan', 'Suriname', 'Swaziland', 'Sweden', 'Switzerland', 'Syria', 'Taiwan', 'Tajikistan', 'Thailand', 'Togo', 'Tonga', 'Trinidad & Tobago', 'Tunisia', 'Turkey', 'Turkmenistan', 'Uganda', 'Ukraine', 'United Arab Emirates', 'United Kingdom', 'United States', 'Uruguay', 'Uzbekistan', 'Vanuatu', 'Venezuela', 'Vietnam', 'Yemen', 'Zambia', 'Zimbabwe']\n"
     ]
    }
   ],
   "source": [
    "countries = pd.read_csv('datasets/countries.csv')\n",
    "\n",
    "countries = countries.dropna()\n",
    "\n",
    "counter = 1\n",
    "country_list = []\n",
    "\n",
    "for i in countries.itertuples():\n",
    "    country_list.append(i[1].strip())\n",
    "\n",
    "print(country_list)"
   ]
  },
  {
   "cell_type": "code",
   "execution_count": 103,
   "metadata": {},
   "outputs": [
    {
     "data": {
      "text/html": [
       "<div>\n",
       "<style scoped>\n",
       "    .dataframe tbody tr th:only-of-type {\n",
       "        vertical-align: middle;\n",
       "    }\n",
       "\n",
       "    .dataframe tbody tr th {\n",
       "        vertical-align: top;\n",
       "    }\n",
       "\n",
       "    .dataframe thead th {\n",
       "        text-align: right;\n",
       "    }\n",
       "</style>\n",
       "<table border=\"1\" class=\"dataframe\">\n",
       "  <thead>\n",
       "    <tr style=\"text-align: right;\">\n",
       "      <th></th>\n",
       "      <th>0</th>\n",
       "      <th>1</th>\n",
       "      <th>2</th>\n",
       "      <th>3</th>\n",
       "      <th>4</th>\n",
       "      <th>5</th>\n",
       "      <th>6</th>\n",
       "      <th>7</th>\n",
       "      <th>8</th>\n",
       "      <th>9</th>\n",
       "      <th>10</th>\n",
       "      <th>11</th>\n",
       "      <th>12</th>\n",
       "      <th>13</th>\n",
       "      <th>14</th>\n",
       "      <th>15</th>\n",
       "      <th>16</th>\n",
       "      <th>17</th>\n",
       "      <th>18</th>\n",
       "    </tr>\n",
       "  </thead>\n",
       "  <tbody>\n",
       "    <tr>\n",
       "      <th>0</th>\n",
       "      <td>0.023626</td>\n",
       "      <td>0.067225</td>\n",
       "      <td>0.002855</td>\n",
       "      <td>0.000000</td>\n",
       "      <td>1.000000</td>\n",
       "      <td>1.000000</td>\n",
       "      <td>0.005362</td>\n",
       "      <td>0.223301</td>\n",
       "      <td>0.003342</td>\n",
       "      <td>0.195299</td>\n",
       "      <td>0.004493</td>\n",
       "      <td>0.814759</td>\n",
       "      <td>0.000000</td>\n",
       "      <td>0.904926</td>\n",
       "      <td>0.656056</td>\n",
       "      <td>0.000494</td>\n",
       "      <td>0.000221</td>\n",
       "      <td>0.000178</td>\n",
       "      <td>0.000000</td>\n",
       "    </tr>\n",
       "    <tr>\n",
       "      <th>1</th>\n",
       "      <td>0.002716</td>\n",
       "      <td>0.002982</td>\n",
       "      <td>0.007589</td>\n",
       "      <td>0.001447</td>\n",
       "      <td>0.364586</td>\n",
       "      <td>0.119604</td>\n",
       "      <td>0.107239</td>\n",
       "      <td>0.836165</td>\n",
       "      <td>0.079082</td>\n",
       "      <td>0.339559</td>\n",
       "      <td>0.090278</td>\n",
       "      <td>0.617369</td>\n",
       "      <td>0.666667</td>\n",
       "      <td>0.180018</td>\n",
       "      <td>0.102817</td>\n",
       "      <td>0.301691</td>\n",
       "      <td>0.207471</td>\n",
       "      <td>0.606832</td>\n",
       "      <td>0.005618</td>\n",
       "    </tr>\n",
       "    <tr>\n",
       "      <th>2</th>\n",
       "      <td>0.025051</td>\n",
       "      <td>0.247286</td>\n",
       "      <td>0.000742</td>\n",
       "      <td>0.000046</td>\n",
       "      <td>0.467650</td>\n",
       "      <td>0.178567</td>\n",
       "      <td>0.147453</td>\n",
       "      <td>0.635922</td>\n",
       "      <td>0.086768</td>\n",
       "      <td>0.051844</td>\n",
       "      <td>0.005106</td>\n",
       "      <td>0.947953</td>\n",
       "      <td>0.000000</td>\n",
       "      <td>0.226750</td>\n",
       "      <td>0.080498</td>\n",
       "      <td>0.131339</td>\n",
       "      <td>0.000618</td>\n",
       "      <td>0.312218</td>\n",
       "      <td>0.011236</td>\n",
       "    </tr>\n",
       "    <tr>\n",
       "      <th>3</th>\n",
       "      <td>0.000000</td>\n",
       "      <td>0.000008</td>\n",
       "      <td>0.008053</td>\n",
       "      <td>0.068684</td>\n",
       "      <td>0.720772</td>\n",
       "      <td>0.116557</td>\n",
       "      <td>0.217158</td>\n",
       "      <td>0.939320</td>\n",
       "      <td>0.512141</td>\n",
       "      <td>0.000000</td>\n",
       "      <td>0.000000</td>\n",
       "      <td>1.000000</td>\n",
       "      <td>0.333333</td>\n",
       "      <td>0.158379</td>\n",
       "      <td>0.107208</td>\n",
       "      <td>0.000052</td>\n",
       "      <td>0.000155</td>\n",
       "      <td>0.000598</td>\n",
       "      <td>0.016854</td>\n",
       "    </tr>\n",
       "    <tr>\n",
       "      <th>4</th>\n",
       "      <td>0.000042</td>\n",
       "      <td>0.000043</td>\n",
       "      <td>0.009530</td>\n",
       "      <td>0.039671</td>\n",
       "      <td>0.336890</td>\n",
       "      <td>0.106792</td>\n",
       "      <td>0.281501</td>\n",
       "      <td>0.866505</td>\n",
       "      <td>0.612274</td>\n",
       "      <td>0.292706</td>\n",
       "      <td>0.092933</td>\n",
       "      <td>0.659067</td>\n",
       "      <td>0.333333</td>\n",
       "      <td>0.221915</td>\n",
       "      <td>0.108306</td>\n",
       "      <td>0.049415</td>\n",
       "      <td>0.000199</td>\n",
       "      <td>0.778777</td>\n",
       "      <td>0.022472</td>\n",
       "    </tr>\n",
       "    <tr>\n",
       "      <th>...</th>\n",
       "      <td>...</td>\n",
       "      <td>...</td>\n",
       "      <td>...</td>\n",
       "      <td>...</td>\n",
       "      <td>...</td>\n",
       "      <td>...</td>\n",
       "      <td>...</td>\n",
       "      <td>...</td>\n",
       "      <td>...</td>\n",
       "      <td>...</td>\n",
       "      <td>...</td>\n",
       "      <td>...</td>\n",
       "      <td>...</td>\n",
       "      <td>...</td>\n",
       "      <td>...</td>\n",
       "      <td>...</td>\n",
       "      <td>...</td>\n",
       "      <td>...</td>\n",
       "      <td>...</td>\n",
       "    </tr>\n",
       "    <tr>\n",
       "      <th>174</th>\n",
       "      <td>0.019572</td>\n",
       "      <td>0.094693</td>\n",
       "      <td>0.001632</td>\n",
       "      <td>0.000356</td>\n",
       "      <td>0.475596</td>\n",
       "      <td>0.123834</td>\n",
       "      <td>0.115282</td>\n",
       "      <td>0.919903</td>\n",
       "      <td>0.155825</td>\n",
       "      <td>0.047496</td>\n",
       "      <td>0.018791</td>\n",
       "      <td>0.941953</td>\n",
       "      <td>0.333333</td>\n",
       "      <td>0.262891</td>\n",
       "      <td>0.091840</td>\n",
       "      <td>0.000052</td>\n",
       "      <td>0.462449</td>\n",
       "      <td>0.566991</td>\n",
       "      <td>0.977528</td>\n",
       "    </tr>\n",
       "    <tr>\n",
       "      <th>175</th>\n",
       "      <td>0.064225</td>\n",
       "      <td>0.034214</td>\n",
       "      <td>0.015716</td>\n",
       "      <td>0.001206</td>\n",
       "      <td>0.466288</td>\n",
       "      <td>0.147158</td>\n",
       "      <td>0.053619</td>\n",
       "      <td>0.882282</td>\n",
       "      <td>0.208844</td>\n",
       "      <td>0.321526</td>\n",
       "      <td>0.121528</td>\n",
       "      <td>0.611219</td>\n",
       "      <td>0.333333</td>\n",
       "      <td>0.220304</td>\n",
       "      <td>0.139407</td>\n",
       "      <td>0.271782</td>\n",
       "      <td>0.000408</td>\n",
       "      <td>0.399239</td>\n",
       "      <td>0.983146</td>\n",
       "    </tr>\n",
       "    <tr>\n",
       "      <th>176</th>\n",
       "      <td>0.016319</td>\n",
       "      <td>0.054815</td>\n",
       "      <td>0.002398</td>\n",
       "      <td>0.000413</td>\n",
       "      <td>0.476504</td>\n",
       "      <td>0.368267</td>\n",
       "      <td>0.008043</td>\n",
       "      <td>0.395631</td>\n",
       "      <td>0.041212</td>\n",
       "      <td>0.044759</td>\n",
       "      <td>0.004902</td>\n",
       "      <td>0.954702</td>\n",
       "      <td>0.000000</td>\n",
       "      <td>0.819521</td>\n",
       "      <td>0.215514</td>\n",
       "      <td>0.175553</td>\n",
       "      <td>0.520950</td>\n",
       "      <td>0.411820</td>\n",
       "      <td>0.988764</td>\n",
       "    </tr>\n",
       "    <tr>\n",
       "      <th>177</th>\n",
       "      <td>0.008743</td>\n",
       "      <td>0.078139</td>\n",
       "      <td>0.000834</td>\n",
       "      <td>0.000000</td>\n",
       "      <td>0.476504</td>\n",
       "      <td>0.534892</td>\n",
       "      <td>0.008043</td>\n",
       "      <td>0.764563</td>\n",
       "      <td>0.008911</td>\n",
       "      <td>0.113991</td>\n",
       "      <td>0.000613</td>\n",
       "      <td>0.893505</td>\n",
       "      <td>0.333333</td>\n",
       "      <td>0.776013</td>\n",
       "      <td>0.641054</td>\n",
       "      <td>0.000286</td>\n",
       "      <td>0.000276</td>\n",
       "      <td>0.512471</td>\n",
       "      <td>0.994382</td>\n",
       "    </tr>\n",
       "    <tr>\n",
       "      <th>178</th>\n",
       "      <td>0.009303</td>\n",
       "      <td>0.040550</td>\n",
       "      <td>0.001823</td>\n",
       "      <td>0.000000</td>\n",
       "      <td>0.476504</td>\n",
       "      <td>0.406767</td>\n",
       "      <td>0.037534</td>\n",
       "      <td>0.887136</td>\n",
       "      <td>0.029628</td>\n",
       "      <td>0.133956</td>\n",
       "      <td>0.006944</td>\n",
       "      <td>0.870106</td>\n",
       "      <td>0.333333</td>\n",
       "      <td>0.476980</td>\n",
       "      <td>0.710940</td>\n",
       "      <td>0.232770</td>\n",
       "      <td>0.268180</td>\n",
       "      <td>0.606832</td>\n",
       "      <td>1.000000</td>\n",
       "    </tr>\n",
       "  </tbody>\n",
       "</table>\n",
       "<p>179 rows × 19 columns</p>\n",
       "</div>"
      ],
      "text/plain": [
       "            0         1         2         3         4         5         6  \\\n",
       "0    0.023626  0.067225  0.002855  0.000000  1.000000  1.000000  0.005362   \n",
       "1    0.002716  0.002982  0.007589  0.001447  0.364586  0.119604  0.107239   \n",
       "2    0.025051  0.247286  0.000742  0.000046  0.467650  0.178567  0.147453   \n",
       "3    0.000000  0.000008  0.008053  0.068684  0.720772  0.116557  0.217158   \n",
       "4    0.000042  0.000043  0.009530  0.039671  0.336890  0.106792  0.281501   \n",
       "..        ...       ...       ...       ...       ...       ...       ...   \n",
       "174  0.019572  0.094693  0.001632  0.000356  0.475596  0.123834  0.115282   \n",
       "175  0.064225  0.034214  0.015716  0.001206  0.466288  0.147158  0.053619   \n",
       "176  0.016319  0.054815  0.002398  0.000413  0.476504  0.368267  0.008043   \n",
       "177  0.008743  0.078139  0.000834  0.000000  0.476504  0.534892  0.008043   \n",
       "178  0.009303  0.040550  0.001823  0.000000  0.476504  0.406767  0.037534   \n",
       "\n",
       "            7         8         9        10        11        12        13  \\\n",
       "0    0.223301  0.003342  0.195299  0.004493  0.814759  0.000000  0.904926   \n",
       "1    0.836165  0.079082  0.339559  0.090278  0.617369  0.666667  0.180018   \n",
       "2    0.635922  0.086768  0.051844  0.005106  0.947953  0.000000  0.226750   \n",
       "3    0.939320  0.512141  0.000000  0.000000  1.000000  0.333333  0.158379   \n",
       "4    0.866505  0.612274  0.292706  0.092933  0.659067  0.333333  0.221915   \n",
       "..        ...       ...       ...       ...       ...       ...       ...   \n",
       "174  0.919903  0.155825  0.047496  0.018791  0.941953  0.333333  0.262891   \n",
       "175  0.882282  0.208844  0.321526  0.121528  0.611219  0.333333  0.220304   \n",
       "176  0.395631  0.041212  0.044759  0.004902  0.954702  0.000000  0.819521   \n",
       "177  0.764563  0.008911  0.113991  0.000613  0.893505  0.333333  0.776013   \n",
       "178  0.887136  0.029628  0.133956  0.006944  0.870106  0.333333  0.476980   \n",
       "\n",
       "           14        15        16        17        18  \n",
       "0    0.656056  0.000494  0.000221  0.000178  0.000000  \n",
       "1    0.102817  0.301691  0.207471  0.606832  0.005618  \n",
       "2    0.080498  0.131339  0.000618  0.312218  0.011236  \n",
       "3    0.107208  0.000052  0.000155  0.000598  0.016854  \n",
       "4    0.108306  0.049415  0.000199  0.778777  0.022472  \n",
       "..        ...       ...       ...       ...       ...  \n",
       "174  0.091840  0.000052  0.462449  0.566991  0.977528  \n",
       "175  0.139407  0.271782  0.000408  0.399239  0.983146  \n",
       "176  0.215514  0.175553  0.520950  0.411820  0.988764  \n",
       "177  0.641054  0.000286  0.000276  0.512471  0.994382  \n",
       "178  0.710940  0.232770  0.268180  0.606832  1.000000  \n",
       "\n",
       "[179 rows x 19 columns]"
      ]
     },
     "execution_count": 103,
     "metadata": {},
     "output_type": "execute_result"
    }
   ],
   "source": [
    "\n",
    "from sklearn import preprocessing\n",
    "from sklearn.preprocessing import LabelEncoder\n",
    "countries = countries.drop(['Region', 'Country'], axis = 1)\n",
    "\n",
    "    \n",
    "    \n",
    "for index_label, row_series in countries.iterrows():\n",
    "    countries.at[index_label, 'Country'] = counter\n",
    "    counter += 1\n",
    "\n",
    "# print(country_list)\n",
    "countries\n",
    "# Create x, where x the 'scores' column's values as floats\n",
    "x = countries.values.astype(float)\n",
    "\n",
    "# Create a minimum and maximum processor object\n",
    "min_max_scaler = preprocessing.MinMaxScaler()\n",
    "\n",
    "# Create an object to transform the data to fit minmax processor\n",
    "x_scaled = min_max_scaler.fit_transform(x)\n",
    "\n",
    "# Run the normalizer on the dataframe\n",
    "data = pd.DataFrame(x_scaled)\n",
    "\n",
    "data"
   ]
  },
  {
   "cell_type": "code",
   "execution_count": 104,
   "metadata": {},
   "outputs": [
    {
     "data": {
      "text/plain": [
       "<matplotlib.collections.PathCollection at 0x7fcab1e26748>"
      ]
     },
     "execution_count": 104,
     "metadata": {},
     "output_type": "execute_result"
    },
    {
     "data": {
      "image/png": "[encoded data removed]",
      "text/plain": [
       "<Figure size 432x288 with 1 Axes>"
      ]
     },
     "metadata": {
      "needs_background": "light"
     },
     "output_type": "display_data"
    }
   ],
   "source": [
    "from sklearn.decomposition import PCA\n",
    "pca = PCA(n_components = 2)\n",
    "principals = pca.fit_transform(data)\n",
    "principalDf = pd.DataFrame(data = principals, columns = ['P1', 'P2'])\n",
    "f1 = principalDf['P1'].values\n",
    "f2 = principalDf['P2'].values\n",
    "X = np.array(list(zip(f1, f2)))\n",
    "plt.scatter(f1, f2, c='black', s=7)"
   ]
  },
  {
   "cell_type": "code",
   "execution_count": 105,
   "metadata": {},
   "outputs": [
    {
     "data": {
      "text/html": [
       "<div>\n",
       "<style scoped>\n",
       "    .dataframe tbody tr th:only-of-type {\n",
       "        vertical-align: middle;\n",
       "    }\n",
       "\n",
       "    .dataframe tbody tr th {\n",
       "        vertical-align: top;\n",
       "    }\n",
       "\n",
       "    .dataframe thead th {\n",
       "        text-align: right;\n",
       "    }\n",
       "</style>\n",
       "<table border=\"1\" class=\"dataframe\">\n",
       "  <thead>\n",
       "    <tr style=\"text-align: right;\">\n",
       "      <th></th>\n",
       "      <th>0</th>\n",
       "      <th>1</th>\n",
       "      <th>2</th>\n",
       "      <th>3</th>\n",
       "      <th>4</th>\n",
       "      <th>5</th>\n",
       "      <th>6</th>\n",
       "      <th>7</th>\n",
       "      <th>8</th>\n",
       "      <th>9</th>\n",
       "      <th>10</th>\n",
       "      <th>11</th>\n",
       "      <th>12</th>\n",
       "      <th>13</th>\n",
       "      <th>14</th>\n",
       "      <th>15</th>\n",
       "      <th>16</th>\n",
       "      <th>17</th>\n",
       "      <th>18</th>\n",
       "    </tr>\n",
       "  </thead>\n",
       "  <tbody>\n",
       "    <tr>\n",
       "      <th>0</th>\n",
       "      <td>0.023626</td>\n",
       "      <td>0.067225</td>\n",
       "      <td>0.002855</td>\n",
       "      <td>0.000000</td>\n",
       "      <td>1.000000</td>\n",
       "      <td>1.000000</td>\n",
       "      <td>0.005362</td>\n",
       "      <td>0.223301</td>\n",
       "      <td>0.003342</td>\n",
       "      <td>0.195299</td>\n",
       "      <td>0.004493</td>\n",
       "      <td>0.814759</td>\n",
       "      <td>0.000000</td>\n",
       "      <td>0.904926</td>\n",
       "      <td>0.656056</td>\n",
       "      <td>0.000494</td>\n",
       "      <td>0.000221</td>\n",
       "      <td>0.000178</td>\n",
       "      <td>0.000000</td>\n",
       "    </tr>\n",
       "    <tr>\n",
       "      <th>1</th>\n",
       "      <td>0.002716</td>\n",
       "      <td>0.002982</td>\n",
       "      <td>0.007589</td>\n",
       "      <td>0.001447</td>\n",
       "      <td>0.364586</td>\n",
       "      <td>0.119604</td>\n",
       "      <td>0.107239</td>\n",
       "      <td>0.836165</td>\n",
       "      <td>0.079082</td>\n",
       "      <td>0.339559</td>\n",
       "      <td>0.090278</td>\n",
       "      <td>0.617369</td>\n",
       "      <td>0.666667</td>\n",
       "      <td>0.180018</td>\n",
       "      <td>0.102817</td>\n",
       "      <td>0.301691</td>\n",
       "      <td>0.207471</td>\n",
       "      <td>0.606832</td>\n",
       "      <td>0.005618</td>\n",
       "    </tr>\n",
       "    <tr>\n",
       "      <th>2</th>\n",
       "      <td>0.025051</td>\n",
       "      <td>0.247286</td>\n",
       "      <td>0.000742</td>\n",
       "      <td>0.000046</td>\n",
       "      <td>0.467650</td>\n",
       "      <td>0.178567</td>\n",
       "      <td>0.147453</td>\n",
       "      <td>0.635922</td>\n",
       "      <td>0.086768</td>\n",
       "      <td>0.051844</td>\n",
       "      <td>0.005106</td>\n",
       "      <td>0.947953</td>\n",
       "      <td>0.000000</td>\n",
       "      <td>0.226750</td>\n",
       "      <td>0.080498</td>\n",
       "      <td>0.131339</td>\n",
       "      <td>0.000618</td>\n",
       "      <td>0.312218</td>\n",
       "      <td>0.011236</td>\n",
       "    </tr>\n",
       "    <tr>\n",
       "      <th>3</th>\n",
       "      <td>0.000000</td>\n",
       "      <td>0.000008</td>\n",
       "      <td>0.008053</td>\n",
       "      <td>0.068684</td>\n",
       "      <td>0.720772</td>\n",
       "      <td>0.116557</td>\n",
       "      <td>0.217158</td>\n",
       "      <td>0.939320</td>\n",
       "      <td>0.512141</td>\n",
       "      <td>0.000000</td>\n",
       "      <td>0.000000</td>\n",
       "      <td>1.000000</td>\n",
       "      <td>0.333333</td>\n",
       "      <td>0.158379</td>\n",
       "      <td>0.107208</td>\n",
       "      <td>0.000052</td>\n",
       "      <td>0.000155</td>\n",
       "      <td>0.000598</td>\n",
       "      <td>0.016854</td>\n",
       "    </tr>\n",
       "    <tr>\n",
       "      <th>4</th>\n",
       "      <td>0.000042</td>\n",
       "      <td>0.000043</td>\n",
       "      <td>0.009530</td>\n",
       "      <td>0.039671</td>\n",
       "      <td>0.336890</td>\n",
       "      <td>0.106792</td>\n",
       "      <td>0.281501</td>\n",
       "      <td>0.866505</td>\n",
       "      <td>0.612274</td>\n",
       "      <td>0.292706</td>\n",
       "      <td>0.092933</td>\n",
       "      <td>0.659067</td>\n",
       "      <td>0.333333</td>\n",
       "      <td>0.221915</td>\n",
       "      <td>0.108306</td>\n",
       "      <td>0.049415</td>\n",
       "      <td>0.000199</td>\n",
       "      <td>0.778777</td>\n",
       "      <td>0.022472</td>\n",
       "    </tr>\n",
       "    <tr>\n",
       "      <th>...</th>\n",
       "      <td>...</td>\n",
       "      <td>...</td>\n",
       "      <td>...</td>\n",
       "      <td>...</td>\n",
       "      <td>...</td>\n",
       "      <td>...</td>\n",
       "      <td>...</td>\n",
       "      <td>...</td>\n",
       "      <td>...</td>\n",
       "      <td>...</td>\n",
       "      <td>...</td>\n",
       "      <td>...</td>\n",
       "      <td>...</td>\n",
       "      <td>...</td>\n",
       "      <td>...</td>\n",
       "      <td>...</td>\n",
       "      <td>...</td>\n",
       "      <td>...</td>\n",
       "      <td>...</td>\n",
       "    </tr>\n",
       "    <tr>\n",
       "      <th>174</th>\n",
       "      <td>0.019572</td>\n",
       "      <td>0.094693</td>\n",
       "      <td>0.001632</td>\n",
       "      <td>0.000356</td>\n",
       "      <td>0.475596</td>\n",
       "      <td>0.123834</td>\n",
       "      <td>0.115282</td>\n",
       "      <td>0.919903</td>\n",
       "      <td>0.155825</td>\n",
       "      <td>0.047496</td>\n",
       "      <td>0.018791</td>\n",
       "      <td>0.941953</td>\n",
       "      <td>0.333333</td>\n",
       "      <td>0.262891</td>\n",
       "      <td>0.091840</td>\n",
       "      <td>0.000052</td>\n",
       "      <td>0.462449</td>\n",
       "      <td>0.566991</td>\n",
       "      <td>0.977528</td>\n",
       "    </tr>\n",
       "    <tr>\n",
       "      <th>175</th>\n",
       "      <td>0.064225</td>\n",
       "      <td>0.034214</td>\n",
       "      <td>0.015716</td>\n",
       "      <td>0.001206</td>\n",
       "      <td>0.466288</td>\n",
       "      <td>0.147158</td>\n",
       "      <td>0.053619</td>\n",
       "      <td>0.882282</td>\n",
       "      <td>0.208844</td>\n",
       "      <td>0.321526</td>\n",
       "      <td>0.121528</td>\n",
       "      <td>0.611219</td>\n",
       "      <td>0.333333</td>\n",
       "      <td>0.220304</td>\n",
       "      <td>0.139407</td>\n",
       "      <td>0.271782</td>\n",
       "      <td>0.000408</td>\n",
       "      <td>0.399239</td>\n",
       "      <td>0.983146</td>\n",
       "    </tr>\n",
       "    <tr>\n",
       "      <th>176</th>\n",
       "      <td>0.016319</td>\n",
       "      <td>0.054815</td>\n",
       "      <td>0.002398</td>\n",
       "      <td>0.000413</td>\n",
       "      <td>0.476504</td>\n",
       "      <td>0.368267</td>\n",
       "      <td>0.008043</td>\n",
       "      <td>0.395631</td>\n",
       "      <td>0.041212</td>\n",
       "      <td>0.044759</td>\n",
       "      <td>0.004902</td>\n",
       "      <td>0.954702</td>\n",
       "      <td>0.000000</td>\n",
       "      <td>0.819521</td>\n",
       "      <td>0.215514</td>\n",
       "      <td>0.175553</td>\n",
       "      <td>0.520950</td>\n",
       "      <td>0.411820</td>\n",
       "      <td>0.988764</td>\n",
       "    </tr>\n",
       "    <tr>\n",
       "      <th>177</th>\n",
       "      <td>0.008743</td>\n",
       "      <td>0.078139</td>\n",
       "      <td>0.000834</td>\n",
       "      <td>0.000000</td>\n",
       "      <td>0.476504</td>\n",
       "      <td>0.534892</td>\n",
       "      <td>0.008043</td>\n",
       "      <td>0.764563</td>\n",
       "      <td>0.008911</td>\n",
       "      <td>0.113991</td>\n",
       "      <td>0.000613</td>\n",
       "      <td>0.893505</td>\n",
       "      <td>0.333333</td>\n",
       "      <td>0.776013</td>\n",
       "      <td>0.641054</td>\n",
       "      <td>0.000286</td>\n",
       "      <td>0.000276</td>\n",
       "      <td>0.512471</td>\n",
       "      <td>0.994382</td>\n",
       "    </tr>\n",
       "    <tr>\n",
       "      <th>178</th>\n",
       "      <td>0.009303</td>\n",
       "      <td>0.040550</td>\n",
       "      <td>0.001823</td>\n",
       "      <td>0.000000</td>\n",
       "      <td>0.476504</td>\n",
       "      <td>0.406767</td>\n",
       "      <td>0.037534</td>\n",
       "      <td>0.887136</td>\n",
       "      <td>0.029628</td>\n",
       "      <td>0.133956</td>\n",
       "      <td>0.006944</td>\n",
       "      <td>0.870106</td>\n",
       "      <td>0.333333</td>\n",
       "      <td>0.476980</td>\n",
       "      <td>0.710940</td>\n",
       "      <td>0.232770</td>\n",
       "      <td>0.268180</td>\n",
       "      <td>0.606832</td>\n",
       "      <td>1.000000</td>\n",
       "    </tr>\n",
       "  </tbody>\n",
       "</table>\n",
       "<p>179 rows × 19 columns</p>\n",
       "</div>"
      ],
      "text/plain": [
       "            0         1         2         3         4         5         6  \\\n",
       "0    0.023626  0.067225  0.002855  0.000000  1.000000  1.000000  0.005362   \n",
       "1    0.002716  0.002982  0.007589  0.001447  0.364586  0.119604  0.107239   \n",
       "2    0.025051  0.247286  0.000742  0.000046  0.467650  0.178567  0.147453   \n",
       "3    0.000000  0.000008  0.008053  0.068684  0.720772  0.116557  0.217158   \n",
       "4    0.000042  0.000043  0.009530  0.039671  0.336890  0.106792  0.281501   \n",
       "..        ...       ...       ...       ...       ...       ...       ...   \n",
       "174  0.019572  0.094693  0.001632  0.000356  0.475596  0.123834  0.115282   \n",
       "175  0.064225  0.034214  0.015716  0.001206  0.466288  0.147158  0.053619   \n",
       "176  0.016319  0.054815  0.002398  0.000413  0.476504  0.368267  0.008043   \n",
       "177  0.008743  0.078139  0.000834  0.000000  0.476504  0.534892  0.008043   \n",
       "178  0.009303  0.040550  0.001823  0.000000  0.476504  0.406767  0.037534   \n",
       "\n",
       "            7         8         9        10        11        12        13  \\\n",
       "0    0.223301  0.003342  0.195299  0.004493  0.814759  0.000000  0.904926   \n",
       "1    0.836165  0.079082  0.339559  0.090278  0.617369  0.666667  0.180018   \n",
       "2    0.635922  0.086768  0.051844  0.005106  0.947953  0.000000  0.226750   \n",
       "3    0.939320  0.512141  0.000000  0.000000  1.000000  0.333333  0.158379   \n",
       "4    0.866505  0.612274  0.292706  0.092933  0.659067  0.333333  0.221915   \n",
       "..        ...       ...       ...       ...       ...       ...       ...   \n",
       "174  0.919903  0.155825  0.047496  0.018791  0.941953  0.333333  0.262891   \n",
       "175  0.882282  0.208844  0.321526  0.121528  0.611219  0.333333  0.220304   \n",
       "176  0.395631  0.041212  0.044759  0.004902  0.954702  0.000000  0.819521   \n",
       "177  0.764563  0.008911  0.113991  0.000613  0.893505  0.333333  0.776013   \n",
       "178  0.887136  0.029628  0.133956  0.006944  0.870106  0.333333  0.476980   \n",
       "\n",
       "           14        15        16        17        18  \n",
       "0    0.656056  0.000494  0.000221  0.000178  0.000000  \n",
       "1    0.102817  0.301691  0.207471  0.606832  0.005618  \n",
       "2    0.080498  0.131339  0.000618  0.312218  0.011236  \n",
       "3    0.107208  0.000052  0.000155  0.000598  0.016854  \n",
       "4    0.108306  0.049415  0.000199  0.778777  0.022472  \n",
       "..        ...       ...       ...       ...       ...  \n",
       "174  0.091840  0.000052  0.462449  0.566991  0.977528  \n",
       "175  0.139407  0.271782  0.000408  0.399239  0.983146  \n",
       "176  0.215514  0.175553  0.520950  0.411820  0.988764  \n",
       "177  0.641054  0.000286  0.000276  0.512471  0.994382  \n",
       "178  0.710940  0.232770  0.268180  0.606832  1.000000  \n",
       "\n",
       "[179 rows x 19 columns]"
      ]
     },
     "execution_count": 105,
     "metadata": {},
     "output_type": "execute_result"
    }
   ],
   "source": [
    "from sklearn.cluster import KMeans\n",
    "raw = data\n",
    "# Number of clusters\n",
    "kmeans = KMeans(n_clusters=15)\n",
    "# Fitting the input data\n",
    "kmeans = kmeans.fit(data)\n",
    "# Getting the cluster labels\n",
    "labels = kmeans.predict(data)\n",
    "# Centroid values\n",
    "centroids = kmeans.cluster_centers_\n",
    "raw"
   ]
  },
  {
   "cell_type": "code",
   "execution_count": 106,
   "metadata": {},
   "outputs": [],
   "source": [
    "data['cluster'] = labels"
   ]
  },
  {
   "cell_type": "code",
   "execution_count": 107,
   "metadata": {},
   "outputs": [],
   "source": [
    "data['countries'] = country_list"
   ]
  },
  {
   "cell_type": "code",
   "execution_count": 108,
   "metadata": {},
   "outputs": [],
   "source": [
    "data = data[['countries', 'cluster']]\n",
    "\n",
    "raw = raw.drop(['countries', 'cluster'], axis = 1)"
   ]
  },
  {
   "cell_type": "code",
   "execution_count": 112,
   "metadata": {},
   "outputs": [
    {
     "data": {
      "image/png": "[encoded data removed]",
      "text/plain": [
       "<Figure size 360x144 with 1 Axes>"
      ]
     },
     "metadata": {
      "needs_background": "light"
     },
     "output_type": "display_data"
    },
    {
     "data": {
      "image/png": "[encoded data removed]",
      "text/plain": [
       "<Figure size 360x144 with 1 Axes>"
      ]
     },
     "metadata": {
      "needs_background": "light"
     },
     "output_type": "display_data"
    },
    {
     "data": {
      "image/png": "[encoded data removed]",
      "text/plain": [
       "<Figure size 360x144 with 1 Axes>"
      ]
     },
     "metadata": {
      "needs_background": "light"
     },
     "output_type": "display_data"
    },
    {
     "data": {
      "image/png": "[encoded data removed]",
      "text/plain": [
       "<Figure size 360x144 with 1 Axes>"
      ]
     },
     "metadata": {
      "needs_background": "light"
     },
     "output_type": "display_data"
    },
    {
     "data": {
      "image/png": "[encoded data removed]",
      "text/plain": [
       "<Figure size 360x144 with 1 Axes>"
      ]
     },
     "metadata": {
      "needs_background": "light"
     },
     "output_type": "display_data"
    },
    {
     "data": {
      "image/png": "[encoded data removed]",
      "text/plain": [
       "<Figure size 360x144 with 1 Axes>"
      ]
     },
     "metadata": {
      "needs_background": "light"
     },
     "output_type": "display_data"
    },
    {
     "data": {
      "image/png": "[encoded data removed]",
      "text/plain": [
       "<Figure size 360x144 with 1 Axes>"
      ]
     },
     "metadata": {
      "needs_background": "light"
     },
     "output_type": "display_data"
    },
    {
     "data": {
      "image/png": "[encoded data removed]",
      "text/plain": [
       "<Figure size 360x144 with 1 Axes>"
      ]
     },
     "metadata": {
      "needs_background": "light"
     },
     "output_type": "display_data"
    },
    {
     "data": {
      "image/png": "[encoded data removed]",
      "text/plain": [
       "<Figure size 360x144 with 1 Axes>"
      ]
     },
     "metadata": {
      "needs_background": "light"
     },
     "output_type": "display_data"
    },
    {
     "data": {
      "image/png": "[encoded data removed]",
      "text/plain": [
       "<Figure size 360x144 with 1 Axes>"
      ]
     },
     "metadata": {
      "needs_background": "light"
     },
     "output_type": "display_data"
    },
    {
     "data": {
      "image/png": "[encoded data removed]",
      "text/plain": [
       "<Figure size 360x144 with 1 Axes>"
      ]
     },
     "metadata": {
      "needs_background": "light"
     },
     "output_type": "display_data"
    },
    {
     "data": {
      "image/png": "[encoded data removed]",
      "text/plain": [
       "<Figure size 360x144 with 1 Axes>"
      ]
     },
     "metadata": {
      "needs_background": "light"
     },
     "output_type": "display_data"
    },
    {
     "data": {
      "image/png": "[encoded data removed]",
      "text/plain": [
       "<Figure size 360x144 with 1 Axes>"
      ]
     },
     "metadata": {
      "needs_background": "light"
     },
     "output_type": "display_data"
    },
    {
     "data": {
      "image/png": "[encoded data removed]",
      "text/plain": [
       "<Figure size 360x144 with 1 Axes>"
      ]
     },
     "metadata": {
      "needs_background": "light"
     },
     "output_type": "display_data"
    }
   ],
   "source": [
    "from sklearn.metrics import silhouette_samples\n",
    "\n",
    "for i, k in enumerate([2, 3, 4, 5, 6, 7, 8, 9, 10, 11, 12, 13, 14, 15]):\n",
    "    fig, (ax1) = plt.subplots(1)\n",
    "    fig.set_size_inches(5, 2)\n",
    "    \n",
    "    # Run the Kmeans algorithm\n",
    "    km = KMeans(n_clusters=k)\n",
    "    labels = km.fit_predict(raw)\n",
    "    centroids = km.cluster_centers_\n",
    "    silhouette_vals = silhouette_samples(raw, labels)\n",
    "    y_ticks = []\n",
    "    y_lower, y_upper = 0, 0\n",
    "    for i, cluster in enumerate(np.unique(labels)):\n",
    "        cluster_silhouette_vals = silhouette_vals[labels == cluster]\n",
    "        cluster_silhouette_vals.sort()\n",
    "        y_upper += len(cluster_silhouette_vals)\n",
    "        ax1.barh(range(y_lower, y_upper), cluster_silhouette_vals, edgecolor='none', height=1)\n",
    "        ax1.text(-0.03, (y_lower + y_upper) / 2, str(i + 1))\n",
    "        y_lower += len(cluster_silhouette_vals)\n",
    "\n",
    "    # Get the average silhouette score and plot it\n",
    "        avg_score = np.mean(silhouette_vals)\n",
    "        ax1.axvline(avg_score, linestyle='--', linewidth=2, color='green')\n",
    "        ax1.set_yticks([])\n",
    "        ax1.set_xlim([-0.1, 1])\n",
    "        ax1.set_xlabel('Silhouette coefficient values')\n",
    "        ax1.set_ylabel('Cluster labels')\n",
    "        ax1.set_title('Silhouette plot for the various clusters', y=1.02)"
   ]
  },
  {
   "cell_type": "code",
   "execution_count": 115,
   "metadata": {},
   "outputs": [
    {
     "data": {
      "image/png": "[encoded data removed]",
      "text/plain": [
       "<Figure size 432x432 with 1 Axes>"
      ]
     },
     "metadata": {
      "needs_background": "light"
     },
     "output_type": "display_data"
    }
   ],
   "source": [
    "sse = []\n",
    "list_k = list(range(1, 20))\n",
    "\n",
    "for k in list_k:\n",
    "    km = KMeans(n_clusters=k)\n",
    "    km.fit(raw)\n",
    "    sse.append(km.inertia_)\n",
    "\n",
    "# Plot sse against k\n",
    "plt.figure(figsize=(6, 6))\n",
    "plt.plot(list_k, sse, '-o')\n",
    "plt.xlabel(r'Number of clusters *k*')\n",
    "plt.ylabel('Sum of squared distance');"
   ]
  },
  {
   "cell_type": "code",
   "execution_count": null,
   "metadata": {},
   "outputs": [],
   "source": []
  }
 ],
 "metadata": {
  "kernelspec": {
   "display_name": "Python 3",
   "language": "python",
   "name": "python3"
  },
  "language_info": {
   "codemirror_mode": {
    "name": "ipython",
    "version": 3
   },
   "file_extension": ".py",
   "mimetype": "text/x-python",
   "name": "python",
   "nbconvert_exporter": "python",
   "pygments_lexer": "ipython3",
   "version": "3.6.9"
  }
 },
 "nbformat": 4,
 "nbformat_minor": 4
}
